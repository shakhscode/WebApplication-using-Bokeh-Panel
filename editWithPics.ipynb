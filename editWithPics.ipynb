{
 "cells": [
  {
   "cell_type": "code",
   "execution_count": 20,
   "metadata": {},
   "outputs": [
    {
     "name": "stdout",
     "output_type": "stream",
     "text": [
      "Launching server at http://localhost:44383\n"
     ]
    },
    {
     "data": {
      "text/plain": [
       "<bokeh.server.server.Server at 0x7fc11e7fe290>"
      ]
     },
     "execution_count": 20,
     "metadata": {},
     "output_type": "execute_result"
    },
    {
     "name": "stdout",
     "output_type": "stream",
     "text": [
      "Launching server at http://localhost:33193\n",
      "Designing done\n",
      "Launching server at http://localhost:35213\n"
     ]
    }
   ],
   "source": [
    "import panel as pn\n",
    "from bokeh import events\n",
    "from bokeh.models import Button, CustomJS\n",
    "\n",
    "\n",
    "\n",
    "def visit():\n",
    "        with open('frpage.py') as infile:\n",
    "            exec(infile.read())   \n",
    "\n",
    "\n",
    "b3 = Button(label = 'Connect to Spirometer & Oximeter', button_type = 'primary')\n",
    "b3.on_click(visit)\n",
    "\n",
    "im1 = pn.pane.JPG('im2.jpg', height = 450, width = 450)\n",
    "im2 = pn.pane.JPG('im3.jpg', height = 450 , width = 450)\n",
    "\n",
    "tpage = pn.template.FastListTemplate(\n",
    "    title = ' ',\n",
    "    main = [pn.Row( pn.Spacer(width =750),'### Registration Completed.'),\n",
    "            pn.Row(pn.Spacer(width =400),im1,im2),\n",
    "            pn.Row( pn.Spacer(width =700),b3)\n",
    "           ]\n",
    "                                       )\n",
    "tpage.servable()\n",
    "tpage.show()"
   ]
  }
 ],
 "metadata": {
  "kernelspec": {
   "display_name": "Python 3",
   "language": "python",
   "name": "python3"
  },
  "language_info": {
   "codemirror_mode": {
    "name": "ipython",
    "version": 3
   },
   "file_extension": ".py",
   "mimetype": "text/x-python",
   "name": "python",
   "nbconvert_exporter": "python",
   "pygments_lexer": "ipython3",
   "version": "3.7.6"
  }
 },
 "nbformat": 4,
 "nbformat_minor": 4
}
