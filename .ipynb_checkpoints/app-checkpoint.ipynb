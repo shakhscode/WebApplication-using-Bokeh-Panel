{
 "cells": [
  {
   "cell_type": "code",
   "execution_count": null,
   "metadata": {},
   "outputs": [],
   "source": [
    "import panel as pn\n",
    "from bokeh import events\n",
    "from bokeh.models import Button, CustomJS\n",
    "import webbrowser\n",
    "\n",
    "\n",
    "def visit():\n",
    "        with open('snpage.py') as infile:\n",
    "            exec(infile.read())\n",
    "            \n",
    "b1 = Button(label= 'REGISTER', button_type = 'primary')\n",
    "b1.on_click(visit)\n",
    "\n",
    "im1 = pn.pane.JPG('im1.jpg', width=500)\n",
    "\n",
    "firstpage = pn.template.FastListTemplate(\n",
    "    title = 'Welcome to my application',\n",
    "    main = [pn.Row(pn.Spacer(width =600),im1),\n",
    "            pn.Row(pn.Spacer(width =700),b1)\n",
    "           \n",
    "           ]\n",
    "                                       )\n",
    "firstpage.servable()\n",
    "firstpage.show()"
   ]
  }
 ],
 "metadata": {
  "kernelspec": {
   "display_name": "Python 3",
   "language": "python",
   "name": "python3"
  },
  "language_info": {
   "codemirror_mode": {
    "name": "ipython",
    "version": 3
   },
   "file_extension": ".py",
   "mimetype": "text/x-python",
   "name": "python",
   "nbconvert_exporter": "python",
   "pygments_lexer": "ipython3",
   "version": "3.7.6"
  }
 },
 "nbformat": 4,
 "nbformat_minor": 4
}
